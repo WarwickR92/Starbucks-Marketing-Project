{
 "cells": [
  {
   "cell_type": "markdown",
   "metadata": {},
   "source": [
    "# Determining Starbucks Demographics"
   ]
  },
  {
   "cell_type": "markdown",
   "metadata": {},
   "source": [
    "In this notebook I will use the data cleaning performed in the processing notebook to attempt to determine what the core demographics of starbucks memebership are in a effort to see how targeted marketing could be implemented efficently in future on consumers. \n",
    "\n",
    "This process will involve running an unsupervised learning method to cluster the data into groups based on information provided in their profiles including age, gender, income and length of membership. It will also take into account how much users normally spend at starbucks on a per transaction basis.\n",
    "\n",
    "First, I will perform some further processing of the data to prepare it for the model (standard scalars etc.). Then I will run a K-means ml model to cluster the data and determine what the optimimun number of clusters describes the demographics appropriately. After this I will describe some interesting findings from the results to gain data understanding before the final step of this projetct in Part 2 (Modelling the prices for each demographic and seeing how they have performed for each marketing campagin. "
   ]
  },
  {
   "cell_type": "markdown",
   "metadata": {},
   "source": [
    "### Imports"
   ]
  },
  {
   "cell_type": "code",
   "execution_count": 17,
   "metadata": {},
   "outputs": [],
   "source": [
    "# import general functions\n",
    "import pandas as pd\n",
    "import numpy as np\n",
    "import json\n",
    "import matplotlib.pyplot as plt\n",
    "\n",
    "# import functions for modelling\n",
    "from sklearn.preprocessing import StandardScaler\n",
    "from sklearn.cluster import KMeans\n",
    "\n",
    "# Saving the ML model\n",
    "import joblib\n",
    "\n",
    "# import the cleaning package\n",
    "import sbpkg as sb"
   ]
  },
  {
   "cell_type": "markdown",
   "metadata": {},
   "source": [
    "### Functions"
   ]
  },
  {
   "cell_type": "code",
   "execution_count": null,
   "metadata": {},
   "outputs": [],
   "source": []
  },
  {
   "cell_type": "markdown",
   "metadata": {},
   "source": [
    "### Global Variables"
   ]
  },
  {
   "cell_type": "code",
   "execution_count": 3,
   "metadata": {},
   "outputs": [],
   "source": [
    "# read in the different datasources\n",
    "portfolio_df = pd.read_json('data/portfolio.json', lines=True)\n",
    "profile_df = pd.read_json('data/profile.json', lines=True)\n",
    "transcript_df = pd.read_json('data/transcript.json', lines=True)"
   ]
  },
  {
   "cell_type": "markdown",
   "metadata": {},
   "source": [
    "### Run Cleaning Functions"
   ]
  },
  {
   "cell_type": "code",
   "execution_count": 4,
   "metadata": {},
   "outputs": [
    {
     "data": {
      "text/html": [
       "<div>\n",
       "<style scoped>\n",
       "    .dataframe tbody tr th:only-of-type {\n",
       "        vertical-align: middle;\n",
       "    }\n",
       "\n",
       "    .dataframe tbody tr th {\n",
       "        vertical-align: top;\n",
       "    }\n",
       "\n",
       "    .dataframe thead th {\n",
       "        text-align: right;\n",
       "    }\n",
       "</style>\n",
       "<table border=\"1\" class=\"dataframe\">\n",
       "  <thead>\n",
       "    <tr style=\"text-align: right;\">\n",
       "      <th></th>\n",
       "      <th>female</th>\n",
       "      <th>male</th>\n",
       "      <th>other</th>\n",
       "      <th>unknown gender</th>\n",
       "      <th>age</th>\n",
       "      <th>member joined</th>\n",
       "      <th>person</th>\n",
       "      <th>income</th>\n",
       "      <th>total transactions</th>\n",
       "      <th>total spend</th>\n",
       "      <th>spend per trans</th>\n",
       "      <th>spend per day</th>\n",
       "      <th>membership length</th>\n",
       "    </tr>\n",
       "  </thead>\n",
       "  <tbody>\n",
       "    <tr>\n",
       "      <th>0</th>\n",
       "      <td>0</td>\n",
       "      <td>0</td>\n",
       "      <td>0</td>\n",
       "      <td>1</td>\n",
       "      <td>0</td>\n",
       "      <td>2017-02-12</td>\n",
       "      <td>68be06ca386d4c31939f3a4f0e3dd783</td>\n",
       "      <td>0.0</td>\n",
       "      <td>9</td>\n",
       "      <td>20.40</td>\n",
       "      <td>2.266667</td>\n",
       "      <td>0.680000</td>\n",
       "      <td>76.0</td>\n",
       "    </tr>\n",
       "    <tr>\n",
       "      <th>1</th>\n",
       "      <td>1</td>\n",
       "      <td>0</td>\n",
       "      <td>0</td>\n",
       "      <td>0</td>\n",
       "      <td>55</td>\n",
       "      <td>2017-07-15</td>\n",
       "      <td>0610b486422d4921ae7d2bf64640c50b</td>\n",
       "      <td>112000.0</td>\n",
       "      <td>3</td>\n",
       "      <td>77.01</td>\n",
       "      <td>25.670000</td>\n",
       "      <td>2.567000</td>\n",
       "      <td>54.0</td>\n",
       "    </tr>\n",
       "    <tr>\n",
       "      <th>2</th>\n",
       "      <td>0</td>\n",
       "      <td>0</td>\n",
       "      <td>0</td>\n",
       "      <td>1</td>\n",
       "      <td>0</td>\n",
       "      <td>2018-07-12</td>\n",
       "      <td>38fe809add3b4fcf9315a9694bb96ff5</td>\n",
       "      <td>0.0</td>\n",
       "      <td>5</td>\n",
       "      <td>10.21</td>\n",
       "      <td>2.042000</td>\n",
       "      <td>0.340333</td>\n",
       "      <td>2.0</td>\n",
       "    </tr>\n",
       "    <tr>\n",
       "      <th>3</th>\n",
       "      <td>1</td>\n",
       "      <td>0</td>\n",
       "      <td>0</td>\n",
       "      <td>0</td>\n",
       "      <td>75</td>\n",
       "      <td>2017-05-09</td>\n",
       "      <td>78afa995795e4d85b5d9ceeca43f5fef</td>\n",
       "      <td>100000.0</td>\n",
       "      <td>4</td>\n",
       "      <td>89.99</td>\n",
       "      <td>22.497500</td>\n",
       "      <td>2.999667</td>\n",
       "      <td>63.0</td>\n",
       "    </tr>\n",
       "    <tr>\n",
       "      <th>4</th>\n",
       "      <td>0</td>\n",
       "      <td>0</td>\n",
       "      <td>0</td>\n",
       "      <td>1</td>\n",
       "      <td>0</td>\n",
       "      <td>2017-08-04</td>\n",
       "      <td>a03223e636434f42ac4c3df47e8bac43</td>\n",
       "      <td>0.0</td>\n",
       "      <td>3</td>\n",
       "      <td>4.65</td>\n",
       "      <td>1.550000</td>\n",
       "      <td>0.155000</td>\n",
       "      <td>51.0</td>\n",
       "    </tr>\n",
       "  </tbody>\n",
       "</table>\n",
       "</div>"
      ],
      "text/plain": [
       "   female  male  other  unknown gender  age member joined  \\\n",
       "0       0     0      0               1    0    2017-02-12   \n",
       "1       1     0      0               0   55    2017-07-15   \n",
       "2       0     0      0               1    0    2018-07-12   \n",
       "3       1     0      0               0   75    2017-05-09   \n",
       "4       0     0      0               1    0    2017-08-04   \n",
       "\n",
       "                             person    income  total transactions  \\\n",
       "0  68be06ca386d4c31939f3a4f0e3dd783       0.0                   9   \n",
       "1  0610b486422d4921ae7d2bf64640c50b  112000.0                   3   \n",
       "2  38fe809add3b4fcf9315a9694bb96ff5       0.0                   5   \n",
       "3  78afa995795e4d85b5d9ceeca43f5fef  100000.0                   4   \n",
       "4  a03223e636434f42ac4c3df47e8bac43       0.0                   3   \n",
       "\n",
       "   total spend  spend per trans  spend per day  membership length  \n",
       "0        20.40         2.266667       0.680000               76.0  \n",
       "1        77.01        25.670000       2.567000               54.0  \n",
       "2        10.21         2.042000       0.340333                2.0  \n",
       "3        89.99        22.497500       2.999667               63.0  \n",
       "4         4.65         1.550000       0.155000               51.0  "
      ]
     },
     "execution_count": 4,
     "metadata": {},
     "output_type": "execute_result"
    }
   ],
   "source": [
    "# run the initial cleaning on each dataset\n",
    "clean_port_df = sb.clean_portfolio_data(portfolio_df)\n",
    "clean_prof_df = sb.clean_profile_data(profile_df)\n",
    "clean_trans_df = sb.clean_transcript_data(transcript_df)\n",
    "\n",
    "# calculates the uninfluenced transactions for the modeling\n",
    "uninflunced_trans = sb.norm_transactions(clean_trans_df, clean_port_df)\n",
    "\n",
    "# process the user data to create the modeling input\n",
    "user_data = sb.user_transactions(clean_prof_df, uninflunced_trans)\n",
    "user_data.head()"
   ]
  },
  {
   "cell_type": "markdown",
   "metadata": {},
   "source": [
    "### Demographics Modelling"
   ]
  },
  {
   "cell_type": "code",
   "execution_count": 5,
   "metadata": {},
   "outputs": [
    {
     "data": {
      "text/plain": [
       "Index(['female', 'male', 'other', 'unknown gender', 'age', 'member joined',\n",
       "       'person', 'income', 'total transactions', 'total spend',\n",
       "       'spend per trans', 'spend per day', 'membership length'],\n",
       "      dtype='object')"
      ]
     },
     "execution_count": 5,
     "metadata": {},
     "output_type": "execute_result"
    }
   ],
   "source": [
    "user_data.columns"
   ]
  },
  {
   "cell_type": "code",
   "execution_count": 7,
   "metadata": {},
   "outputs": [],
   "source": [
    "# remove unwanted columns\n",
    "demographics_input = user_data.drop(columns=['member joined','person', 'total transactions', 'total spend'])"
   ]
  },
  {
   "cell_type": "code",
   "execution_count": 8,
   "metadata": {},
   "outputs": [],
   "source": [
    "# Apply feature scaling to the demographics data.\n",
    "scaler = StandardScaler()\n",
    "scaler.fit(demographics_input)\n",
    "input_demo_data = scaler.transform(demographics_input)"
   ]
  },
  {
   "cell_type": "code",
   "execution_count": 9,
   "metadata": {},
   "outputs": [
    {
     "data": {
      "image/png": "[encoded data removed]",
      "text/plain": [
       "<Figure size 432x288 with 1 Axes>"
      ]
     },
     "metadata": {
      "needs_background": "light"
     },
     "output_type": "display_data"
    }
   ],
   "source": [
    "# run k-means over different cluster counts to see the best number of groups to split our demographic data into\n",
    "ad = {}\n",
    "cluster_counts = [2,3,4,5,6,7,8,9,10,12,14,16,18,20,22]\n",
    "for x in cluster_counts:\n",
    "    kmeans = KMeans(n_clusters=x, max_iter=1000).fit(input_demo_data)\n",
    "    ad[x] = kmeans.inertia_\n",
    "plt.plot(list(ad.keys()), list(ad.values()))\n",
    "plt.xlabel(\"Number of cluster\")\n",
    "plt.ylabel(\"Average Distance\")\n",
    "plt.show()"
   ]
  },
  {
   "cell_type": "code",
   "execution_count": 10,
   "metadata": {},
   "outputs": [],
   "source": [
    "# create and run the model\n",
    "final_kmeans = KMeans(n_clusters=8, max_iter=1000).fit(input_demo_data)\n",
    "predict = final_kmeans.predict(input_demo_data)\n",
    "\n",
    "# add the pedictions for the clustering onto the original dataset\n",
    "demographics_output = demographics_input\n",
    "demographics_output['cluster'] = predict"
   ]
  },
  {
   "cell_type": "markdown",
   "metadata": {},
   "source": [
    "### Demographics Analysis"
   ]
  },
  {
   "cell_type": "code",
   "execution_count": 14,
   "metadata": {},
   "outputs": [
    {
     "data": {
      "text/html": [
       "<div>\n",
       "<style scoped>\n",
       "    .dataframe tbody tr th:only-of-type {\n",
       "        vertical-align: middle;\n",
       "    }\n",
       "\n",
       "    .dataframe tbody tr th {\n",
       "        vertical-align: top;\n",
       "    }\n",
       "\n",
       "    .dataframe thead th {\n",
       "        text-align: right;\n",
       "    }\n",
       "</style>\n",
       "<table border=\"1\" class=\"dataframe\">\n",
       "  <thead>\n",
       "    <tr style=\"text-align: right;\">\n",
       "      <th></th>\n",
       "      <th>female</th>\n",
       "      <th>male</th>\n",
       "      <th>other</th>\n",
       "      <th>unknown gender</th>\n",
       "      <th>age</th>\n",
       "      <th>income</th>\n",
       "      <th>spend per trans</th>\n",
       "      <th>spend per day</th>\n",
       "      <th>membership length</th>\n",
       "    </tr>\n",
       "    <tr>\n",
       "      <th>cluster</th>\n",
       "      <th></th>\n",
       "      <th></th>\n",
       "      <th></th>\n",
       "      <th></th>\n",
       "      <th></th>\n",
       "      <th></th>\n",
       "      <th></th>\n",
       "      <th></th>\n",
       "      <th></th>\n",
       "    </tr>\n",
       "  </thead>\n",
       "  <tbody>\n",
       "    <tr>\n",
       "      <th>0</th>\n",
       "      <td>1.000000</td>\n",
       "      <td>0.000000</td>\n",
       "      <td>0.0</td>\n",
       "      <td>0.0</td>\n",
       "      <td>50.924603</td>\n",
       "      <td>54220.057720</td>\n",
       "      <td>10.320660</td>\n",
       "      <td>2.031615</td>\n",
       "      <td>56.348124</td>\n",
       "    </tr>\n",
       "    <tr>\n",
       "      <th>1</th>\n",
       "      <td>0.000000</td>\n",
       "      <td>0.000000</td>\n",
       "      <td>0.0</td>\n",
       "      <td>1.0</td>\n",
       "      <td>0.000000</td>\n",
       "      <td>0.000000</td>\n",
       "      <td>2.352779</td>\n",
       "      <td>0.452499</td>\n",
       "      <td>70.869565</td>\n",
       "    </tr>\n",
       "    <tr>\n",
       "      <th>2</th>\n",
       "      <td>0.000000</td>\n",
       "      <td>1.000000</td>\n",
       "      <td>0.0</td>\n",
       "      <td>0.0</td>\n",
       "      <td>60.444397</td>\n",
       "      <td>81426.005133</td>\n",
       "      <td>22.092649</td>\n",
       "      <td>4.466201</td>\n",
       "      <td>75.070145</td>\n",
       "    </tr>\n",
       "    <tr>\n",
       "      <th>3</th>\n",
       "      <td>0.000000</td>\n",
       "      <td>1.000000</td>\n",
       "      <td>0.0</td>\n",
       "      <td>0.0</td>\n",
       "      <td>47.616538</td>\n",
       "      <td>50965.775668</td>\n",
       "      <td>5.885533</td>\n",
       "      <td>1.084990</td>\n",
       "      <td>35.041469</td>\n",
       "    </tr>\n",
       "    <tr>\n",
       "      <th>4</th>\n",
       "      <td>0.000000</td>\n",
       "      <td>0.000000</td>\n",
       "      <td>1.0</td>\n",
       "      <td>0.0</td>\n",
       "      <td>54.507614</td>\n",
       "      <td>62649.746193</td>\n",
       "      <td>14.529618</td>\n",
       "      <td>3.232132</td>\n",
       "      <td>71.472081</td>\n",
       "    </tr>\n",
       "    <tr>\n",
       "      <th>5</th>\n",
       "      <td>0.032294</td>\n",
       "      <td>0.967706</td>\n",
       "      <td>0.0</td>\n",
       "      <td>0.0</td>\n",
       "      <td>49.905902</td>\n",
       "      <td>54699.331849</td>\n",
       "      <td>7.968539</td>\n",
       "      <td>1.945205</td>\n",
       "      <td>178.811804</td>\n",
       "    </tr>\n",
       "    <tr>\n",
       "      <th>6</th>\n",
       "      <td>0.502793</td>\n",
       "      <td>0.497207</td>\n",
       "      <td>0.0</td>\n",
       "      <td>0.0</td>\n",
       "      <td>56.983240</td>\n",
       "      <td>79050.279330</td>\n",
       "      <td>129.113700</td>\n",
       "      <td>25.947760</td>\n",
       "      <td>81.608939</td>\n",
       "    </tr>\n",
       "    <tr>\n",
       "      <th>7</th>\n",
       "      <td>1.000000</td>\n",
       "      <td>0.000000</td>\n",
       "      <td>0.0</td>\n",
       "      <td>0.0</td>\n",
       "      <td>63.595190</td>\n",
       "      <td>86687.669377</td>\n",
       "      <td>23.030266</td>\n",
       "      <td>4.330507</td>\n",
       "      <td>88.554878</td>\n",
       "    </tr>\n",
       "  </tbody>\n",
       "</table>\n",
       "</div>"
      ],
      "text/plain": [
       "           female      male  other  unknown gender        age        income  \\\n",
       "cluster                                                                       \n",
       "0        1.000000  0.000000    0.0             0.0  50.924603  54220.057720   \n",
       "1        0.000000  0.000000    0.0             1.0   0.000000      0.000000   \n",
       "2        0.000000  1.000000    0.0             0.0  60.444397  81426.005133   \n",
       "3        0.000000  1.000000    0.0             0.0  47.616538  50965.775668   \n",
       "4        0.000000  0.000000    1.0             0.0  54.507614  62649.746193   \n",
       "5        0.032294  0.967706    0.0             0.0  49.905902  54699.331849   \n",
       "6        0.502793  0.497207    0.0             0.0  56.983240  79050.279330   \n",
       "7        1.000000  0.000000    0.0             0.0  63.595190  86687.669377   \n",
       "\n",
       "         spend per trans  spend per day  membership length  \n",
       "cluster                                                     \n",
       "0              10.320660       2.031615          56.348124  \n",
       "1               2.352779       0.452499          70.869565  \n",
       "2              22.092649       4.466201          75.070145  \n",
       "3               5.885533       1.084990          35.041469  \n",
       "4              14.529618       3.232132          71.472081  \n",
       "5               7.968539       1.945205         178.811804  \n",
       "6             129.113700      25.947760          81.608939  \n",
       "7              23.030266       4.330507          88.554878  "
      ]
     },
     "execution_count": 14,
     "metadata": {},
     "output_type": "execute_result"
    }
   ],
   "source": [
    "demographics_output.groupby('cluster').mean()"
   ]
  },
  {
   "cell_type": "code",
   "execution_count": 16,
   "metadata": {},
   "outputs": [
    {
     "data": {
      "text/html": [
       "<div>\n",
       "<style scoped>\n",
       "    .dataframe tbody tr th:only-of-type {\n",
       "        vertical-align: middle;\n",
       "    }\n",
       "\n",
       "    .dataframe tbody tr th {\n",
       "        vertical-align: top;\n",
       "    }\n",
       "\n",
       "    .dataframe thead th {\n",
       "        text-align: right;\n",
       "    }\n",
       "</style>\n",
       "<table border=\"1\" class=\"dataframe\">\n",
       "  <thead>\n",
       "    <tr style=\"text-align: right;\">\n",
       "      <th></th>\n",
       "      <th>count</th>\n",
       "      <th>mean</th>\n",
       "      <th>std</th>\n",
       "      <th>min</th>\n",
       "      <th>25%</th>\n",
       "      <th>50%</th>\n",
       "      <th>75%</th>\n",
       "      <th>max</th>\n",
       "    </tr>\n",
       "    <tr>\n",
       "      <th>cluster</th>\n",
       "      <th></th>\n",
       "      <th></th>\n",
       "      <th></th>\n",
       "      <th></th>\n",
       "      <th></th>\n",
       "      <th></th>\n",
       "      <th></th>\n",
       "      <th></th>\n",
       "    </tr>\n",
       "  </thead>\n",
       "  <tbody>\n",
       "    <tr>\n",
       "      <th>0</th>\n",
       "      <td>2772.0</td>\n",
       "      <td>50.924603</td>\n",
       "      <td>17.724212</td>\n",
       "      <td>18.0</td>\n",
       "      <td>37.0</td>\n",
       "      <td>51.0</td>\n",
       "      <td>63.0</td>\n",
       "      <td>101.0</td>\n",
       "    </tr>\n",
       "    <tr>\n",
       "      <th>1</th>\n",
       "      <td>2070.0</td>\n",
       "      <td>0.000000</td>\n",
       "      <td>0.000000</td>\n",
       "      <td>0.0</td>\n",
       "      <td>0.0</td>\n",
       "      <td>0.0</td>\n",
       "      <td>0.0</td>\n",
       "      <td>0.0</td>\n",
       "    </tr>\n",
       "    <tr>\n",
       "      <th>2</th>\n",
       "      <td>2338.0</td>\n",
       "      <td>60.444397</td>\n",
       "      <td>13.991031</td>\n",
       "      <td>18.0</td>\n",
       "      <td>52.0</td>\n",
       "      <td>60.0</td>\n",
       "      <td>70.0</td>\n",
       "      <td>100.0</td>\n",
       "    </tr>\n",
       "    <tr>\n",
       "      <th>3</th>\n",
       "      <td>4003.0</td>\n",
       "      <td>47.616538</td>\n",
       "      <td>17.498671</td>\n",
       "      <td>18.0</td>\n",
       "      <td>33.0</td>\n",
       "      <td>47.0</td>\n",
       "      <td>61.0</td>\n",
       "      <td>98.0</td>\n",
       "    </tr>\n",
       "    <tr>\n",
       "      <th>4</th>\n",
       "      <td>197.0</td>\n",
       "      <td>54.507614</td>\n",
       "      <td>16.537101</td>\n",
       "      <td>20.0</td>\n",
       "      <td>43.0</td>\n",
       "      <td>55.0</td>\n",
       "      <td>67.0</td>\n",
       "      <td>100.0</td>\n",
       "    </tr>\n",
       "    <tr>\n",
       "      <th>5</th>\n",
       "      <td>1796.0</td>\n",
       "      <td>49.905902</td>\n",
       "      <td>17.555310</td>\n",
       "      <td>18.0</td>\n",
       "      <td>37.0</td>\n",
       "      <td>50.0</td>\n",
       "      <td>63.0</td>\n",
       "      <td>98.0</td>\n",
       "    </tr>\n",
       "    <tr>\n",
       "      <th>6</th>\n",
       "      <td>179.0</td>\n",
       "      <td>56.983240</td>\n",
       "      <td>16.848124</td>\n",
       "      <td>18.0</td>\n",
       "      <td>46.5</td>\n",
       "      <td>58.0</td>\n",
       "      <td>67.5</td>\n",
       "      <td>97.0</td>\n",
       "    </tr>\n",
       "    <tr>\n",
       "      <th>7</th>\n",
       "      <td>2952.0</td>\n",
       "      <td>63.595190</td>\n",
       "      <td>13.578034</td>\n",
       "      <td>19.0</td>\n",
       "      <td>54.0</td>\n",
       "      <td>62.0</td>\n",
       "      <td>73.0</td>\n",
       "      <td>101.0</td>\n",
       "    </tr>\n",
       "  </tbody>\n",
       "</table>\n",
       "</div>"
      ],
      "text/plain": [
       "          count       mean        std   min   25%   50%   75%    max\n",
       "cluster                                                             \n",
       "0        2772.0  50.924603  17.724212  18.0  37.0  51.0  63.0  101.0\n",
       "1        2070.0   0.000000   0.000000   0.0   0.0   0.0   0.0    0.0\n",
       "2        2338.0  60.444397  13.991031  18.0  52.0  60.0  70.0  100.0\n",
       "3        4003.0  47.616538  17.498671  18.0  33.0  47.0  61.0   98.0\n",
       "4         197.0  54.507614  16.537101  20.0  43.0  55.0  67.0  100.0\n",
       "5        1796.0  49.905902  17.555310  18.0  37.0  50.0  63.0   98.0\n",
       "6         179.0  56.983240  16.848124  18.0  46.5  58.0  67.5   97.0\n",
       "7        2952.0  63.595190  13.578034  19.0  54.0  62.0  73.0  101.0"
      ]
     },
     "execution_count": 16,
     "metadata": {},
     "output_type": "execute_result"
    }
   ],
   "source": [
    "demographics_output.groupby('cluster')['age'].describe()"
   ]
  },
  {
   "cell_type": "code",
   "execution_count": null,
   "metadata": {},
   "outputs": [],
   "source": []
  },
  {
   "cell_type": "markdown",
   "metadata": {},
   "source": [
    "### Output the demographics model"
   ]
  },
  {
   "cell_type": "code",
   "execution_count": 19,
   "metadata": {},
   "outputs": [
    {
     "data": {
      "text/plain": [
       "['kmeans_demographic_model.pkl']"
      ]
     },
     "execution_count": 19,
     "metadata": {},
     "output_type": "execute_result"
    }
   ],
   "source": [
    "joblib.dump(final_kmeans, 'kmeans_demographic_model.pkl')"
   ]
  },
  {
   "cell_type": "code",
   "execution_count": 22,
   "metadata": {},
   "outputs": [],
   "source": [
    "# Create a function below to read in the model and predict the demographic for other datasets\n",
    "def predict_demographic(profile_data, demographic_model='kmeans_demographic_model.pkl'):\n",
    "    \"\"\"\n",
    "    this can be used to predict the demographics of group of consumers\n",
    "    \"\"\"\n",
    "    # Reads the volume model \n",
    "    final_kmeans = joblib.load(demographic_model)\n",
    "    \n",
    "    # remove unwanted columns\n",
    "    profile_data_input = profile_data.drop(columns=['member joined',\n",
    "                                              'person', \n",
    "                                              'total transactions', \n",
    "                                              'total spend'])\n",
    "    \n",
    "    # process the profile data\n",
    "    scaler = StandardScaler()\n",
    "    scaler.fit(profile_data_input)\n",
    "    input_demo_data = scaler.transform(profile_data_input)\n",
    "    \n",
    "    # predict the demographics   \n",
    "    predictions = final_kmeans.predict(input_demo_data)\n",
    "    \n",
    "    # add the pedictions for the clustering onto the original dataset\n",
    "    updated_dataframe = profile_data\n",
    "    updated_dataframe['demographic'] = predictions\n",
    "    \n",
    "    return updated_dataframe"
   ]
  },
  {
   "cell_type": "code",
   "execution_count": null,
   "metadata": {},
   "outputs": [],
   "source": []
  }
 ],
 "metadata": {
  "kernelspec": {
   "display_name": "Python 3",
   "language": "python",
   "name": "python3"
  },
  "language_info": {
   "codemirror_mode": {
    "name": "ipython",
    "version": 3
   },
   "file_extension": ".py",
   "mimetype": "text/x-python",
   "name": "python",
   "nbconvert_exporter": "python",
   "pygments_lexer": "ipython3",
   "version": "3.7.5"
  },
  "toc": {
   "base_numbering": 1,
   "nav_menu": {},
   "number_sections": false,
   "sideBar": true,
   "skip_h1_title": false,
   "title_cell": "Table of Contents",
   "title_sidebar": "Contents",
   "toc_cell": false,
   "toc_position": {},
   "toc_section_display": true,
   "toc_window_display": true
  },
  "varInspector": {
   "cols": {
    "lenName": 16,
    "lenType": 16,
    "lenVar": 40
   },
   "kernels_config": {
    "python": {
     "delete_cmd_postfix": "",
     "delete_cmd_prefix": "del ",
     "library": "var_list.py",
     "varRefreshCmd": "print(var_dic_list())"
    },
    "r": {
     "delete_cmd_postfix": ") ",
     "delete_cmd_prefix": "rm(",
     "library": "var_list.r",
     "varRefreshCmd": "cat(var_dic_list()) "
    }
   },
   "types_to_exclude": [
    "module",
    "function",
    "builtin_function_or_method",
    "instance",
    "_Feature"
   ],
   "window_display": false
  }
 },
 "nbformat": 4,
 "nbformat_minor": 2
}
