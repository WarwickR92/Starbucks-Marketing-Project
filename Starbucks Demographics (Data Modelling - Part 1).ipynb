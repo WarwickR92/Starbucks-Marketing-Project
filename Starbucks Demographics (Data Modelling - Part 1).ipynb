{
 "cells": [
  {
   "cell_type": "markdown",
   "metadata": {},
   "source": [
    "# Determining Starbucks Demographics"
   ]
  },
  {
   "cell_type": "markdown",
   "metadata": {},
   "source": [
    "In this notebook I will use the data cleaning performed in the processing notebook to attempt to determine what the core demographics of starbucks memebership are in a effort to see how targeted marketing could be implemented efficently in future on consumers. \n",
    "\n",
    "This process will involve running an unsupervised learning method to cluster the data into groups based on information provided in their profiles including age, gender, income and length of membership. It will also take into account how much users normally spend at starbucks on a weekly/per transaction basis. This information has been included as it will be interesting to understand which marketing techinques have most impact on high value consumers.\n",
    "\n",
    "First, I will perform some further processing of the data to prepare it for the model (standard scalars etc.). Then I will run a K-means ml model to cluster the data and determine what the optimimun number of clusters describes the demographics appropriately. After this I will describe some interesting findings from the results to gain data understanding before the final step of this projetct in Part 2 (Modelling the prices for each demographic and seeing how they have performed for each marketing campagin. "
   ]
  },
  {
   "cell_type": "markdown",
   "metadata": {},
   "source": [
    "### Imports"
   ]
  },
  {
   "cell_type": "code",
   "execution_count": 1,
   "metadata": {},
   "outputs": [],
   "source": [
    "# import general functions\n",
    "import pandas as pd\n",
    "import numpy as np\n",
    "import json\n",
    "import matplotlib.pyplot as plt\n",
    "\n",
    "# import functions for modelling\n",
    "from sklearn.preprocessing import StandardScaler\n",
    "from sklearn.cluster import KMeans"
   ]
  },
  {
   "cell_type": "markdown",
   "metadata": {},
   "source": [
    "### Functions"
   ]
  },
  {
   "cell_type": "code",
   "execution_count": null,
   "metadata": {},
   "outputs": [],
   "source": [
    "\n",
    "def k_means_predictions(data, n_clusters=10):\n",
    "    \"\"\"\n",
    "    this can be used to see how to split the demographics data up for the analysis\n",
    "    \"\"\"\n",
    "    # Apply feature scaling to the demographics data.\n",
    "    scaler = StandardScaler()\n",
    "    scaler.fit(data)\n",
    "    input_data = scaler.transform(data)\n",
    "    \n",
    "    # run k-means over different cluster counts to see the best number of groups to split our demographic data into\n",
    "    ad = {}\n",
    "    cluster_counts = [2,3,4,5,6,7,8,9,10,12,14,16,18,20,22]\n",
    "    for x in cluster_counts:\n",
    "        kmeans = KMeans(n_clusters=x, max_iter=1000).fit(input_demo_data)\n",
    "        ad[x] = kmeans.inertia_\n",
    "    plt.plot(list(ad.keys()), list(ad.values()))\n",
    "    plt.xlabel(\"Number of cluster\")\n",
    "    plt.ylabel(\"Average Distance\")\n",
    "    plt.show()\n",
    "    \n",
    "    # create and run the model\n",
    "    final_kmeans = KMeans(n_clusters=n_clusters, max_iter=1000).fit(input_demo_data)\n",
    "    predict = final_kmeans.predict(input_demo_data)\n",
    "       \n",
    "    # add the pedictions for the clustering onto the original dataset\n",
    "    data['cluster'] = predict\n",
    "    \n",
    "    return data"
   ]
  },
  {
   "cell_type": "markdown",
   "metadata": {},
   "source": [
    "### Global Variables"
   ]
  },
  {
   "cell_type": "code",
   "execution_count": null,
   "metadata": {},
   "outputs": [],
   "source": []
  },
  {
   "cell_type": "markdown",
   "metadata": {},
   "source": [
    "### Run Cleaning Functions"
   ]
  },
  {
   "cell_type": "code",
   "execution_count": null,
   "metadata": {},
   "outputs": [],
   "source": []
  },
  {
   "cell_type": "markdown",
   "metadata": {},
   "source": [
    "### Demographics Modelling"
   ]
  },
  {
   "cell_type": "code",
   "execution_count": null,
   "metadata": {},
   "outputs": [],
   "source": [
    "# remove unwanted columns\n",
    "demographics_input = user_data.drop(columns=['total sales','number of sales'])"
   ]
  },
  {
   "cell_type": "code",
   "execution_count": null,
   "metadata": {},
   "outputs": [],
   "source": [
    "# Apply feature scaling to the demographics data.\n",
    "scaler = StandardScaler()\n",
    "scaler.fit(demographics_input)\n",
    "input_demo_data = scaler.transform(demographics_input)"
   ]
  },
  {
   "cell_type": "code",
   "execution_count": null,
   "metadata": {},
   "outputs": [],
   "source": [
    "# run k-means over different cluster counts to see the best number of groups to split our demographic data into\n",
    "ad = {}\n",
    "cluster_counts = [2,3,4,5,6,7,8,9,10,12,14,16,18,20,22]\n",
    "for x in cluster_counts:\n",
    "    kmeans = KMeans(n_clusters=x, max_iter=1000).fit(input_demo_data)\n",
    "    ad[x] = kmeans.inertia_\n",
    "plt.plot(list(ad.keys()), list(ad.values()))\n",
    "plt.xlabel(\"Number of cluster\")\n",
    "plt.ylabel(\"Average Distance\")\n",
    "plt.show()"
   ]
  },
  {
   "cell_type": "code",
   "execution_count": null,
   "metadata": {},
   "outputs": [],
   "source": [
    "# create and run the model\n",
    "final_kmeans = KMeans(n_clusters=8, max_iter=1000).fit(input_demo_data)\n",
    "predict = final_kmeans.predict(input_demo_data)\n",
    "\n",
    "# add the pedictions for the clustering onto the original dataset\n",
    "demographics_output = demographics_input\n",
    "demographics_output['cluster'] = predict"
   ]
  },
  {
   "cell_type": "markdown",
   "metadata": {},
   "source": [
    "### Modelling Analysis"
   ]
  },
  {
   "cell_type": "code",
   "execution_count": null,
   "metadata": {},
   "outputs": [],
   "source": [
    "demographics_output.groupby('cluster')['female'].count()"
   ]
  },
  {
   "cell_type": "code",
   "execution_count": null,
   "metadata": {},
   "outputs": [],
   "source": [
    "demographics_output.groupby('cluster').mean()"
   ]
  },
  {
   "cell_type": "code",
   "execution_count": null,
   "metadata": {},
   "outputs": [],
   "source": [
    "demographics_output.groupby('cluster')['age'].describe()"
   ]
  }
 ],
 "metadata": {
  "kernelspec": {
   "display_name": "Python 3",
   "language": "python",
   "name": "python3"
  },
  "language_info": {
   "codemirror_mode": {
    "name": "ipython",
    "version": 3
   },
   "file_extension": ".py",
   "mimetype": "text/x-python",
   "name": "python",
   "nbconvert_exporter": "python",
   "pygments_lexer": "ipython3",
   "version": "3.7.4"
  }
 },
 "nbformat": 4,
 "nbformat_minor": 2
}
